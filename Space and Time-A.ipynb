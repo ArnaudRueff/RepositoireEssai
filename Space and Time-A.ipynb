{
 "cells": [
  {
   "cell_type": "code",
   "execution_count": 107,
   "metadata": {
    "collapsed": true
   },
   "outputs": [],
   "source": [
    "import numpy                    \n",
    "from matplotlib import pyplot                 \n",
    "%matplotlib inline\n",
    "from matplotlib import rcParams\n",
    "rcParams['font.family'] = 'serif'\n",
    "rcParams['font.size'] = 16"
   ]
  },
  {
   "cell_type": "code",
   "execution_count": 108,
   "metadata": {
    "collapsed": false
   },
   "outputs": [],
   "source": [
    "Vmax=80\n",
    "L=11\n",
    "umax=250\n",
    "\n",
    "def f(u) :\n",
    "    return Vmax-2*Vmax*u/umax\n"
   ]
  },
  {
   "cell_type": "code",
   "execution_count": 109,
   "metadata": {
    "collapsed": true
   },
   "outputs": [],
   "source": [
    "nx=51\n",
    "dx=L/(nx-1)\n",
    "nt=50\n",
    "dt=0.001"
   ]
  },
  {
   "cell_type": "code",
   "execution_count": 110,
   "metadata": {
    "collapsed": false
   },
   "outputs": [
    {
     "name": "stdout",
     "output_type": "stream",
     "text": [
      "[ 10.  10.  10.  10.  10.  10.  10.  10.  10.  10.  50.  50.  50.  50.  50.\n",
      "  50.  50.  50.  50.  50.  10.  10.  10.  10.  10.  10.  10.  10.  10.  10.\n",
      "  10.  10.  10.  10.  10.  10.  10.  10.  10.  10.  10.  10.  10.  10.  10.\n",
      "  10.  10.  10.  10.  10.  10.]\n"
     ]
    }
   ],
   "source": [
    "x=numpy.linspace(0,L,nx)\n",
    "u=numpy.ones(nx)*10\n",
    "u[10:20]=50\n",
    "print (u)\n"
   ]
  },
  {
   "cell_type": "code",
   "execution_count": 111,
   "metadata": {
    "collapsed": false
   },
   "outputs": [
    {
     "name": "stdout",
     "output_type": "stream",
     "text": [
      "[ 10.          10.          10.          10.          10.          10.          10.\n",
      "  10.          10.          10.          10.00000016  10.0000043\n",
      "  10.00005634  10.00048665  10.00311989  10.01585909  10.06668915\n",
      "  10.23887634  10.74328217  12.02839905  14.8390052   19.92367123\n",
      "  27.14328554  34.88007703  41.12743475  44.97966915  46.63869633\n",
      "  46.66187568  45.52575715  43.5565586   40.98097353  37.97499695\n",
      "  34.68976044  31.26263079  27.82183921  24.48810405  21.37361778\n",
      "  18.57772777  16.17911676  14.22593832  12.72751097  11.65228445\n",
      "  10.93513777  10.49268919  10.24100521  10.10924727  10.04582543\n",
      "  10.01776592  10.00635816  10.00209775  10.00063705]\n",
      "18.6701582075\n"
     ]
    }
   ],
   "source": [
    "for n in range (1, nt):\n",
    "    un=u.copy()\n",
    "    u[1:]=un[1:]-f(un[1:])*dt/dx*(un[1:]-un[0:-1])\n",
    "    u[0]=10\n",
    "print (u)    \n",
    "print (numpy.mean(u))"
   ]
  },
  {
   "cell_type": "code",
   "execution_count": 112,
   "metadata": {
    "collapsed": false
   },
   "outputs": [
    {
     "data": {
      "image/png": "[encoded data removed]",
      "text/plain": [
       "<matplotlib.figure.Figure at 0x106fa8b70>"
      ]
     },
     "metadata": {},
     "output_type": "display_data"
    }
   ],
   "source": [
    "pyplot.plot(x, u, color='#003366', ls='--', lw=3)\n",
    "pyplot.ylim(0,50);"
   ]
  },
  {
   "cell_type": "code",
   "execution_count": null,
   "metadata": {
    "collapsed": true
   },
   "outputs": [],
   "source": []
  },
  {
   "cell_type": "code",
   "execution_count": null,
   "metadata": {
    "collapsed": true
   },
   "outputs": [],
   "source": []
  }
 ],
 "metadata": {
  "kernelspec": {
   "display_name": "Python 3",
   "language": "python",
   "name": "python3"
  },
  "language_info": {
   "codemirror_mode": {
    "name": "ipython",
    "version": 3
   },
   "file_extension": ".py",
   "mimetype": "text/x-python",
   "name": "python",
   "nbconvert_exporter": "python",
   "pygments_lexer": "ipython3",
   "version": "3.4.3"
  }
 },
 "nbformat": 4,
 "nbformat_minor": 0
}
