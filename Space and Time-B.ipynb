{
 "cells": [
  {
   "cell_type": "code",
   "execution_count": 8,
   "metadata": {
    "collapsed": true
   },
   "outputs": [],
   "source": [
    "import numpy                    \n",
    "from matplotlib import pyplot                 \n",
    "%matplotlib inline\n",
    "from matplotlib import rcParams\n",
    "rcParams['font.family'] = 'serif'\n",
    "rcParams['font.size'] = 16"
   ]
  },
  {
   "cell_type": "code",
   "execution_count": 9,
   "metadata": {
    "collapsed": true
   },
   "outputs": [],
   "source": [
    "Vmax=136\n",
    "L=11\n",
    "umax=250\n",
    "\n",
    "def f(u) :\n",
    "    return Vmax-2*Vmax*u/umax\n"
   ]
  },
  {
   "cell_type": "code",
   "execution_count": 10,
   "metadata": {
    "collapsed": true
   },
   "outputs": [],
   "source": [
    "nx=51\n",
    "dx=L/(nx-1)\n",
    "nt=50\n",
    "dt=0.001"
   ]
  },
  {
   "cell_type": "code",
   "execution_count": 11,
   "metadata": {
    "collapsed": false
   },
   "outputs": [
    {
     "name": "stdout",
     "output_type": "stream",
     "text": [
      "[ 20.  20.  20.  20.  20.  20.  20.  20.  20.  20.  50.  50.  50.  50.  50.\n",
      "  50.  50.  50.  50.  50.  20.  20.  20.  20.  20.  20.  20.  20.  20.  20.\n",
      "  20.  20.  20.  20.  20.  20.  20.  20.  20.  20.  20.  20.  20.  20.  20.\n",
      "  20.  20.  20.  20.  20.  20.]\n"
     ]
    }
   ],
   "source": [
    "x=numpy.linspace(0,L,nx)\n",
    "u=numpy.ones(nx)*20\n",
    "u[10:20]=50\n",
    "print (u)\n"
   ]
  },
  {
   "cell_type": "code",
   "execution_count": 12,
   "metadata": {
    "collapsed": false
   },
   "outputs": [
    {
     "name": "stdout",
     "output_type": "stream",
     "text": [
      "[ 20.          20.          20.          20.          20.          20.          20.\n",
      "  20.          20.          20.          20.          20.          20.          20.\n",
      "  20.00000001  20.00000005  20.00000044  20.00000313  20.00001901\n",
      "  20.00010078  20.00047277  20.00198426  20.00751956  20.02593504\n",
      "  20.08196608  20.23859907  20.64103298  21.58324383  23.54490031\n",
      "  27.01631259  31.94862071  37.34373055  41.85550864  44.76340842\n",
      "  46.11276272  46.27756144  45.62660692  44.42422378  42.84252989\n",
      "  40.99551313  38.96547379  36.81887735  34.61500937  32.41058454\n",
      "  30.26203821  28.22605544  26.3581788   24.70911446  23.31875941\n",
      "  22.20908551  21.3784552 ]\n",
      "26.5608664355\n"
     ]
    }
   ],
   "source": [
    "for n in range (1, nt):\n",
    "    un=u.copy()\n",
    "    u[1:]=un[1:]-f(un[1:])*dt/dx*(un[1:]-un[0:-1])\n",
    "    u[0]=20\n",
    "print (u)    \n",
    "print (numpy.mean(u))"
   ]
  },
  {
   "cell_type": "code",
   "execution_count": 13,
   "metadata": {
    "collapsed": false
   },
   "outputs": [
    {
     "data": {
      "image/png": "[encoded data removed]",
      "text/plain": [
       "<matplotlib.figure.Figure at 0x1069d64e0>"
      ]
     },
     "metadata": {},
     "output_type": "display_data"
    }
   ],
   "source": [
    "pyplot.plot(x, u, color='#003366', ls='--', lw=3)\n",
    "pyplot.ylim(0,50);"
   ]
  },
  {
   "cell_type": "code",
   "execution_count": null,
   "metadata": {
    "collapsed": true
   },
   "outputs": [],
   "source": []
  }
 ],
 "metadata": {
  "kernelspec": {
   "display_name": "Python 3",
   "language": "python",
   "name": "python3"
  },
  "language_info": {
   "codemirror_mode": {
    "name": "ipython",
    "version": 3
   },
   "file_extension": ".py",
   "mimetype": "text/x-python",
   "name": "python",
   "nbconvert_exporter": "python",
   "pygments_lexer": "ipython3",
   "version": "3.4.3"
  }
 },
 "nbformat": 4,
 "nbformat_minor": 0
}
